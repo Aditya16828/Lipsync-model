{
 "cells": [
  {
   "cell_type": "code",
   "execution_count": 2,
   "metadata": {},
   "outputs": [],
   "source": [
    "import json\n",
    "from pydub import AudioSegment\n",
    "import librosa\n",
    "import numpy as np\n",
    "import os\n",
    "import pandas as pd"
   ]
  },
  {
   "cell_type": "code",
   "execution_count": 3,
   "metadata": {},
   "outputs": [],
   "source": [
    "jsonFile = open('./19-198-0006.json', 'r')\n",
    "jsonData = json.load(jsonFile)"
   ]
  },
  {
   "cell_type": "code",
   "execution_count": 4,
   "metadata": {},
   "outputs": [
    {
     "data": {
      "text/plain": [
       "{'metadata': {'soundFile': 'D:\\\\PTL Internship Chatbot\\\\LipSync Visemes Model\\\\19-198-0006.wav',\n",
       "  'duration': 13.0},\n",
       " 'mouthCues': [{'start': 0.0, 'end': 0.6, 'value': 'X'},\n",
       "  {'start': 0.6, 'end': 0.68, 'value': 'E'},\n",
       "  {'start': 0.68, 'end': 0.76, 'value': 'A'},\n",
       "  {'start': 0.76, 'end': 0.87, 'value': 'C'},\n",
       "  {'start': 0.87, 'end': 0.94, 'value': 'B'},\n",
       "  {'start': 0.94, 'end': 1.08, 'value': 'E'},\n",
       "  {'start': 1.08, 'end': 1.15, 'value': 'F'},\n",
       "  {'start': 1.15, 'end': 1.36, 'value': 'C'},\n",
       "  {'start': 1.36, 'end': 1.43, 'value': 'F'},\n",
       "  {'start': 1.43, 'end': 1.51, 'value': 'A'},\n",
       "  {'start': 1.51, 'end': 1.67, 'value': 'C'},\n",
       "  {'start': 1.67, 'end': 1.71, 'value': 'E'},\n",
       "  {'start': 1.71, 'end': 2.04, 'value': 'F'},\n",
       "  {'start': 2.04, 'end': 2.11, 'value': 'G'},\n",
       "  {'start': 2.11, 'end': 2.18, 'value': 'C'},\n",
       "  {'start': 2.18, 'end': 2.38, 'value': 'H'},\n",
       "  {'start': 2.38, 'end': 2.46, 'value': 'A'},\n",
       "  {'start': 2.46, 'end': 2.52, 'value': 'H'},\n",
       "  {'start': 2.52, 'end': 2.65, 'value': 'C'},\n",
       "  {'start': 2.65, 'end': 2.93, 'value': 'B'},\n",
       "  {'start': 2.93, 'end': 3.14, 'value': 'C'},\n",
       "  {'start': 3.14, 'end': 3.35, 'value': 'B'},\n",
       "  {'start': 3.35, 'end': 3.47, 'value': 'X'},\n",
       "  {'start': 3.47, 'end': 3.61, 'value': 'B'},\n",
       "  {'start': 3.61, 'end': 3.75, 'value': 'C'},\n",
       "  {'start': 3.75, 'end': 3.82, 'value': 'B'},\n",
       "  {'start': 3.82, 'end': 4.03, 'value': 'C'},\n",
       "  {'start': 4.03, 'end': 4.11, 'value': 'A'},\n",
       "  {'start': 4.11, 'end': 4.38, 'value': 'E'},\n",
       "  {'start': 4.38, 'end': 4.74, 'value': 'X'},\n",
       "  {'start': 4.74, 'end': 5.03, 'value': 'C'},\n",
       "  {'start': 5.03, 'end': 5.24, 'value': 'B'},\n",
       "  {'start': 5.24, 'end': 5.31, 'value': 'F'},\n",
       "  {'start': 5.31, 'end': 5.59, 'value': 'B'},\n",
       "  {'start': 5.59, 'end': 5.67, 'value': 'A'},\n",
       "  {'start': 5.67, 'end': 5.73, 'value': 'E'},\n",
       "  {'start': 5.73, 'end': 5.93, 'value': 'B'},\n",
       "  {'start': 5.93, 'end': 6.01, 'value': 'A'},\n",
       "  {'start': 6.01, 'end': 6.06, 'value': 'D'},\n",
       "  {'start': 6.06, 'end': 6.1, 'value': 'B'},\n",
       "  {'start': 6.1, 'end': 6.24, 'value': 'C'},\n",
       "  {'start': 6.24, 'end': 6.32, 'value': 'A'},\n",
       "  {'start': 6.32, 'end': 6.45, 'value': 'B'},\n",
       "  {'start': 6.45, 'end': 6.97, 'value': 'X'},\n",
       "  {'start': 6.97, 'end': 7.16, 'value': 'B'},\n",
       "  {'start': 7.16, 'end': 7.37, 'value': 'F'},\n",
       "  {'start': 7.37, 'end': 7.58, 'value': 'D'},\n",
       "  {'start': 7.58, 'end': 7.65, 'value': 'C'},\n",
       "  {'start': 7.65, 'end': 7.79, 'value': 'B'},\n",
       "  {'start': 7.79, 'end': 8.07, 'value': 'F'},\n",
       "  {'start': 8.07, 'end': 8.28, 'value': 'B'},\n",
       "  {'start': 8.28, 'end': 10.21, 'value': 'X'},\n",
       "  {'start': 10.21, 'end': 10.38, 'value': 'B'},\n",
       "  {'start': 10.38, 'end': 10.45, 'value': 'C'},\n",
       "  {'start': 10.45, 'end': 11.08, 'value': 'B'},\n",
       "  {'start': 11.08, 'end': 11.36, 'value': 'C'},\n",
       "  {'start': 11.36, 'end': 11.43, 'value': 'B'},\n",
       "  {'start': 11.43, 'end': 11.51, 'value': 'A'},\n",
       "  {'start': 11.51, 'end': 11.62, 'value': 'B'},\n",
       "  {'start': 11.62, 'end': 11.69, 'value': 'G'},\n",
       "  {'start': 11.69, 'end': 11.76, 'value': 'E'},\n",
       "  {'start': 11.76, 'end': 12.04, 'value': 'C'},\n",
       "  {'start': 12.04, 'end': 12.11, 'value': 'B'},\n",
       "  {'start': 12.11, 'end': 12.18, 'value': 'E'},\n",
       "  {'start': 12.18, 'end': 12.32, 'value': 'B'},\n",
       "  {'start': 12.32, 'end': 12.39, 'value': 'F'},\n",
       "  {'start': 12.39, 'end': 12.46, 'value': 'B'},\n",
       "  {'start': 12.46, 'end': 12.54, 'value': 'A'},\n",
       "  {'start': 12.54, 'end': 12.76, 'value': 'E'},\n",
       "  {'start': 12.76, 'end': 12.83, 'value': 'C'},\n",
       "  {'start': 12.83, 'end': 13.0, 'value': 'X'}]}"
      ]
     },
     "execution_count": 4,
     "metadata": {},
     "output_type": "execute_result"
    }
   ],
   "source": [
    "jsonData"
   ]
  },
  {
   "cell_type": "code",
   "execution_count": 5,
   "metadata": {},
   "outputs": [],
   "source": [
    "audio_file = AudioSegment.from_wav(jsonData['metadata']['soundFile'])"
   ]
  },
  {
   "cell_type": "code",
   "execution_count": 6,
   "metadata": {},
   "outputs": [],
   "source": [
    "timestamps = jsonData['mouthCues']"
   ]
  },
  {
   "cell_type": "code",
   "execution_count": 7,
   "metadata": {},
   "outputs": [
    {
     "data": {
      "text/plain": [
       "{'start': 0.0, 'end': 0.6, 'value': 'X'}"
      ]
     },
     "execution_count": 7,
     "metadata": {},
     "output_type": "execute_result"
    }
   ],
   "source": [
    "timestamps[0]"
   ]
  },
  {
   "cell_type": "code",
   "execution_count": 8,
   "metadata": {},
   "outputs": [
    {
     "data": {
      "text/plain": [
       "'19-198-0006'"
      ]
     },
     "execution_count": 8,
     "metadata": {},
     "output_type": "execute_result"
    }
   ],
   "source": [
    "fileName = jsonData['metadata']['soundFile'].split('\\\\')[-1].split('.')[0]\n",
    "fileName"
   ]
  },
  {
   "cell_type": "code",
   "execution_count": 11,
   "metadata": {},
   "outputs": [
    {
     "name": "stderr",
     "output_type": "stream",
     "text": [
      "c:\\Users\\adity\\.pyenv\\pyenv-win\\versions\\3.11.7\\Lib\\site-packages\\librosa\\core\\spectrum.py:257: UserWarning: n_fft=2048 is too large for input signal of length=1764\n",
      "  warnings.warn(\n",
      "c:\\Users\\adity\\.pyenv\\pyenv-win\\versions\\3.11.7\\Lib\\site-packages\\librosa\\core\\spectrum.py:257: UserWarning: n_fft=2048 is too large for input signal of length=1544\n",
      "  warnings.warn(\n",
      "c:\\Users\\adity\\.pyenv\\pyenv-win\\versions\\3.11.7\\Lib\\site-packages\\librosa\\core\\spectrum.py:257: UserWarning: n_fft=2048 is too large for input signal of length=882\n",
      "  warnings.warn(\n",
      "c:\\Users\\adity\\.pyenv\\pyenv-win\\versions\\3.11.7\\Lib\\site-packages\\librosa\\core\\spectrum.py:257: UserWarning: n_fft=2048 is too large for input signal of length=1323\n",
      "  warnings.warn(\n",
      "c:\\Users\\adity\\.pyenv\\pyenv-win\\versions\\3.11.7\\Lib\\site-packages\\librosa\\core\\spectrum.py:257: UserWarning: n_fft=2048 is too large for input signal of length=1103\n",
      "  warnings.warn(\n"
     ]
    }
   ],
   "source": [
    "for idx, el in enumerate(timestamps):\n",
    "    # print(f\"starting: {el['start']}, ending: {el['end']}\")\n",
    "    startms = el['start'] * 1000\n",
    "    endms = el['end'] * 1000\n",
    "    audio_chunk = audio_file[startms:endms]\n",
    "    audio_chunk.export(f\"./{fileName}/{fileName}_{idx}.wav\", format=\"wav\")\n",
    "    data, samplingRate = librosa.load(f\"./{fileName}/{fileName}_{idx}.wav\")\n",
    "    mfccs = np.mean(librosa.feature.mfcc(y=data, sr=samplingRate, n_mfcc=40).T,axis=0)"
   ]
  },
  {
   "cell_type": "code",
   "execution_count": null,
   "metadata": {},
   "outputs": [],
   "source": []
  },
  {
   "cell_type": "code",
   "execution_count": null,
   "metadata": {},
   "outputs": [],
   "source": []
  },
  {
   "cell_type": "code",
   "execution_count": null,
   "metadata": {},
   "outputs": [],
   "source": []
  }
 ],
 "metadata": {
  "kernelspec": {
   "display_name": "Python 3",
   "language": "python",
   "name": "python3"
  },
  "language_info": {
   "codemirror_mode": {
    "name": "ipython",
    "version": 3
   },
   "file_extension": ".py",
   "mimetype": "text/x-python",
   "name": "python",
   "nbconvert_exporter": "python",
   "pygments_lexer": "ipython3",
   "version": "3.11.7"
  }
 },
 "nbformat": 4,
 "nbformat_minor": 2
}
