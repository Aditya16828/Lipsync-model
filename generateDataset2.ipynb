{
 "cells": [
  {
   "cell_type": "code",
   "execution_count": null,
   "metadata": {},
   "outputs": [],
   "source": [
    "from pydub import AudioSegment\n",
    "from pathlib import PurePath\n",
    "import pandas as pd\n",
    "import numpy as np\n",
    "import os"
   ]
  },
  {
   "cell_type": "code",
   "execution_count": null,
   "metadata": {},
   "outputs": [],
   "source": [
    "rhubarbFilePath = '.\\\\Rhubarb-Lip-Sync-1.13.0-Windows\\\\Rhubarb-Lip-Sync-1.13.0-Windows\\\\rhubarb.exe'"
   ]
  },
  {
   "cell_type": "code",
   "execution_count": null,
   "metadata": {},
   "outputs": [],
   "source": [
    "df = pd.read_csv('./dataset/test-clean.csv')"
   ]
  },
  {
   "cell_type": "code",
   "execution_count": null,
   "metadata": {},
   "outputs": [],
   "source": [
    "df.head()"
   ]
  },
  {
   "cell_type": "code",
   "execution_count": null,
   "metadata": {},
   "outputs": [],
   "source": [
    "new_df = df[['subset', 'reader_id', 'chapter_id']]\n",
    "new_df.head()"
   ]
  },
  {
   "cell_type": "code",
   "execution_count": null,
   "metadata": {},
   "outputs": [],
   "source": [
    "npdf = new_df.to_numpy()\n",
    "npdf[0:10]"
   ]
  },
  {
   "cell_type": "code",
   "execution_count": null,
   "metadata": {},
   "outputs": [],
   "source": [
    "filePaths = []\n",
    "\n",
    "for el in npdf:\n",
    "    # print(el)\n",
    "    subset = el[0].strip()\n",
    "    readerid = el[1]\n",
    "    chapterid = el[2]\n",
    "    folderPath = f'./dataset/{subset}/LibriSpeech/{subset}/{readerid}/{chapterid}/'\n",
    "    textFile = f'{readerid}-{chapterid}.trans.txt'\n",
    "    # print(folderPath + textFile)\n",
    "    with open(folderPath + textFile, 'r') as f:\n",
    "        lines = f.readlines()\n",
    "        for line in lines:\n",
    "            filename = line.split(' ')[0]\n",
    "            # print(folderPath + filename + '.flac')\n",
    "            filePaths.append(folderPath + filename + '.flac')"
   ]
  },
  {
   "cell_type": "code",
   "execution_count": null,
   "metadata": {},
   "outputs": [],
   "source": [
    "filePaths[0:10]"
   ]
  },
  {
   "cell_type": "code",
   "execution_count": null,
   "metadata": {},
   "outputs": [],
   "source": [
    "total = len(filePaths)\n",
    "total"
   ]
  },
  {
   "cell_type": "code",
   "execution_count": null,
   "metadata": {},
   "outputs": [],
   "source": [
    "for i in range(0, len(filePaths)):\n",
    "    filePath = filePaths[i]\n",
    "    file_path = PurePath(filePath)\n",
    "    flac_tmp_audio_data = AudioSegment.from_file(file_path, file_path.suffix[1:])\n",
    "    flac_tmp_audio_data.export(str(file_path).replace(file_path.suffix, \"\") + \".wav\", format=\"wav\")\n",
    "    wavFilePath = str(file_path).replace(file_path.suffix, \"\") + \".wav\"\n",
    "    jsonFilePath = wavFilePath.replace('.wav', '.json')\n",
    "    # print(f'{rhubarbFilePath} -f json {wavFilePath} -o {jsonFilePath}')\n",
    "    res = os.system(f'{rhubarbFilePath} -f json {wavFilePath} -o {jsonFilePath}')\n",
    "    if(res != 0):\n",
    "        print(f\"{filePath} processing failed\")\n",
    "        break\n",
    "    \n",
    "    if(100 * i/total % 10 == 0):\n",
    "        print(f\"{i} ({100 * i/total} %) files processed\")"
   ]
  },
  {
   "cell_type": "code",
   "execution_count": null,
   "metadata": {},
   "outputs": [],
   "source": [
    "filePaths_wav = [el.replace('.flac', '.wav') for el in filePaths]\n",
    "filePaths_json = [el.replace('.flac', '.json') for el in filePaths]"
   ]
  },
  {
   "cell_type": "code",
   "execution_count": null,
   "metadata": {},
   "outputs": [],
   "source": [
    "import json\n",
    "import librosa\n",
    "import warnings\n",
    "warnings.filterwarnings('ignore')"
   ]
  },
  {
   "cell_type": "code",
   "execution_count": null,
   "metadata": {},
   "outputs": [],
   "source": [
    "features = []\n",
    "\n",
    "for idx in range(0, len(filePaths_wav)):\n",
    "    jsonFile = open(filePaths_json[idx], 'r')\n",
    "    jsonData = json.load(jsonFile)\n",
    "    audio = AudioSegment.from_wav(filePaths_wav[idx])\n",
    "    timestamps = jsonData['mouthCues']\n",
    "    os.mkdir(filePaths_wav[idx].replace('.wav', ''))\n",
    "    # print(timestamps)\n",
    "    for i in range(0, len(timestamps)):\n",
    "        start = timestamps[i]['start']*1000\n",
    "        end = timestamps[i]['end']*1000\n",
    "        newAudio = audio[start:end]\n",
    "        newAudio.export(filePaths_wav[idx].replace('.wav', '') + '/' + str(i) + '.wav', format=\"wav\")\n",
    "        data, samplingRate = librosa.load(filePaths_wav[idx].replace('.wav', '') + '/' + str(i) + '.wav')\n",
    "        mfccs = np.mean(librosa.feature.mfcc(y=data, sr=samplingRate, n_mfcc=50).T, axis=0)\n",
    "        features.append([mfccs, timestamps[i]['value']])\n",
    "    \n",
    "    if(100 * (idx+1)/len(filePaths_wav) % 5 == 0):\n",
    "        print(f\"{idx+1} ({100 * (idx+1)/len(filePaths_wav)} %) files processed\")"
   ]
  },
  {
   "cell_type": "code",
   "execution_count": null,
   "metadata": {},
   "outputs": [],
   "source": [
    "features = []\n",
    "\n",
    "for idx in range(0, len(filePaths_wav)):\n",
    "    jsonFile = open(filePaths_json[idx], 'r')\n",
    "    jsonData = json.load(jsonFile)\n",
    "    audio = AudioSegment.from_wav(filePaths_wav[idx])\n",
    "    timestamps = jsonData['mouthCues']\n",
    "    # os.mkdir(filePaths_wav[idx].replace('.wav', ''))\n",
    "    # print(timestamps)\n",
    "    for i in range(0, len(timestamps)):\n",
    "        start = timestamps[i]['start']*1000\n",
    "        end = timestamps[i]['end']*1000\n",
    "        newAudio = audio[start:end]\n",
    "        # newAudio.export(filePaths_wav[idx].replace('.wav', '') + '/' + str(i) + '.wav', format=\"wav\")\n",
    "        data, samplingRate = librosa.load(filePaths_wav[idx].replace('.wav', '') + '/' + str(i) + '.wav')\n",
    "        mfccs = np.mean(librosa.feature.mfcc(y=data, sr=samplingRate, n_mfcc=40).T, axis=0)\n",
    "        features.append([mfccs, timestamps[i]['value']])\n",
    "    \n",
    "    if(100 * (idx+1)/len(filePaths_wav) % 5 == 0):\n",
    "        print(f\"{idx+1} ({100 * (idx+1)/len(filePaths_wav)} %) files processed\")"
   ]
  },
  {
   "cell_type": "code",
   "execution_count": null,
   "metadata": {},
   "outputs": [],
   "source": [
    "len(features)"
   ]
  },
  {
   "cell_type": "code",
   "execution_count": null,
   "metadata": {},
   "outputs": [],
   "source": [
    "dataset = pd.DataFrame(features, columns=['features', 'mouthCue'])\n",
    "dataset.head()"
   ]
  },
  {
   "cell_type": "code",
   "execution_count": null,
   "metadata": {},
   "outputs": [],
   "source": [
    "dataset.to_csv('./dataset/extractedFeatures2.csv', index=False)"
   ]
  },
  {
   "cell_type": "code",
   "execution_count": null,
   "metadata": {},
   "outputs": [],
   "source": [
    "X = np.array(dataset.features.tolist())\n",
    "y = np.array(dataset.mouthCue.tolist())"
   ]
  },
  {
   "cell_type": "code",
   "execution_count": null,
   "metadata": {},
   "outputs": [],
   "source": [
    "X.shape"
   ]
  },
  {
   "cell_type": "code",
   "execution_count": null,
   "metadata": {},
   "outputs": [],
   "source": [
    "y_new = np.array(pd.get_dummies(y))"
   ]
  },
  {
   "cell_type": "code",
   "execution_count": null,
   "metadata": {},
   "outputs": [],
   "source": [
    "from sklearn.model_selection import train_test_split\n",
    "\n",
    "X_train, X_test, y_train, y_test = train_test_split(X, y_new, test_size=0.4, random_state = 42)\n",
    "X_val, X_test, y_val, y_test = train_test_split(X_test, y_test, test_size=0.5, random_state = 42)"
   ]
  },
  {
   "cell_type": "code",
   "execution_count": null,
   "metadata": {},
   "outputs": [],
   "source": [
    "X_test.shape, X_train.shape, X_val.shape"
   ]
  },
  {
   "cell_type": "code",
   "execution_count": null,
   "metadata": {},
   "outputs": [],
   "source": [
    "y_train.shape, y_test.shape, y_val.shape"
   ]
  },
  {
   "cell_type": "markdown",
   "metadata": {},
   "source": [
    "# Model Creation"
   ]
  },
  {
   "cell_type": "code",
   "execution_count": null,
   "metadata": {},
   "outputs": [],
   "source": [
    "import tensorflow as tf\n",
    "import tensorflow.keras as keras"
   ]
  },
  {
   "cell_type": "code",
   "execution_count": null,
   "metadata": {},
   "outputs": [],
   "source": [
    "model = keras.Sequential([\n",
    "    #first layer\n",
    "    keras.layers.Dense(1024, input_shape=(40,)),\n",
    "    keras.layers.Dense(512, activation='relu'),\n",
    "    # keras.layers.Dropout(0.5),\n",
    "\n",
    "    #second layer\n",
    "    keras.layers.Dense(256, activation='relu'),\n",
    "    # keras.layers.Dropout(0.5),\n",
    "\n",
    "    #third layer\n",
    "    keras.layers.Dense(128, activation='relu'),\n",
    "    keras.layers.Dense(64, activation='relu'),\n",
    "    keras.layers.Dense(32, activation='relu'),\n",
    "    # keras.layers.Dropout(0.5),\n",
    "\n",
    "    #output layer\n",
    "    keras.layers.Dense(y_train.shape[1], activation='softmax')\n",
    "])\n",
    "model.summary()"
   ]
  },
  {
   "cell_type": "code",
   "execution_count": null,
   "metadata": {},
   "outputs": [],
   "source": [
    "model.compile(loss='categorical_crossentropy', metrics=['accuracy'], optimizer='adam')"
   ]
  },
  {
   "cell_type": "code",
   "execution_count": null,
   "metadata": {},
   "outputs": [],
   "source": [
    "batch_size = 32\n",
    "epochs = 500"
   ]
  },
  {
   "cell_type": "code",
   "execution_count": null,
   "metadata": {},
   "outputs": [],
   "source": [
    "model.fit(X_train, y_train, batch_size=batch_size, epochs=epochs, validation_data=(X_val, y_val))"
   ]
  },
  {
   "cell_type": "code",
   "execution_count": null,
   "metadata": {},
   "outputs": [],
   "source": [
    "model2 = keras.Sequential([\n",
    "    # first layer\n",
    "    keras.layers.Dense(1024, input_shape=(40,)),\n",
    "    keras.layers.LSTM(512, activation='relu'),\n",
    "    keras.layers.LSTM(256, activation='relu'),\n",
    "    # keras.layers.Dropout(0.3),\n",
    "    keras.layers.Dense(128, activation='relu'),\n",
    "    keras.layers.GRU(64, activation='relu'),\n",
    "    keras.layers.GRU(32, activation='relu'),\n",
    "    keras.layers.Dense(16, activation='relu'),\n",
    "    keras.layers.Dense(y_train.shape[1], activation='tanh')\n",
    "])\n",
    "\n",
    "model2.summary()"
   ]
  },
  {
   "cell_type": "code",
   "execution_count": null,
   "metadata": {},
   "outputs": [],
   "source": [
    "model2.compile(loss='categorical_crossentropy', metrics=['accuracy'], optimizer='adam')"
   ]
  },
  {
   "cell_type": "code",
   "execution_count": null,
   "metadata": {},
   "outputs": [],
   "source": [
    "batch_size = 32\n",
    "epochs = 200"
   ]
  },
  {
   "cell_type": "code",
   "execution_count": null,
   "metadata": {},
   "outputs": [],
   "source": [
    "model2.fit(X_train, y_train, batch_size=batch_size, epochs=epochs, validation_data=(X_val, y_val))"
   ]
  }
 ],
 "metadata": {
  "kernelspec": {
   "display_name": "Python 3",
   "language": "python",
   "name": "python3"
  },
  "language_info": {
   "codemirror_mode": {
    "name": "ipython",
    "version": 3
   },
   "file_extension": ".py",
   "mimetype": "text/x-python",
   "name": "python",
   "nbconvert_exporter": "python",
   "pygments_lexer": "ipython3",
   "version": "3.11.7"
  }
 },
 "nbformat": 4,
 "nbformat_minor": 2
}
