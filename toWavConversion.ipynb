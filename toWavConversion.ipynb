{
 "cells": [
  {
   "cell_type": "code",
   "execution_count": 1,
   "metadata": {},
   "outputs": [],
   "source": [
    "from pydub import AudioSegment\n",
    "from pathlib import PurePath\n",
    "import pandas as pd\n",
    "import numpy as np\n",
    "import os"
   ]
  },
  {
   "cell_type": "code",
   "execution_count": 2,
   "metadata": {},
   "outputs": [],
   "source": [
    "dirs_in_testing = os.listdir('./dataset/testing/')"
   ]
  },
  {
   "cell_type": "code",
   "execution_count": 3,
   "metadata": {},
   "outputs": [
    {
     "data": {
      "text/plain": [
       "['125', '198']"
      ]
     },
     "execution_count": 3,
     "metadata": {},
     "output_type": "execute_result"
    }
   ],
   "source": [
    "dirs_in_testing[0:2]"
   ]
  },
  {
   "cell_type": "code",
   "execution_count": 4,
   "metadata": {},
   "outputs": [],
   "source": [
    "flac_filePaths = []"
   ]
  },
  {
   "cell_type": "code",
   "execution_count": 5,
   "metadata": {},
   "outputs": [],
   "source": [
    "for el in dirs_in_testing[0:3]:\n",
    "    for root, dirs, files in os.walk('./dataset/testing/' + el):\n",
    "        for file in files:\n",
    "            if file.endswith('.flac'):\n",
    "                flac_filePaths.append(os.path.join(root, file))"
   ]
  },
  {
   "cell_type": "code",
   "execution_count": 6,
   "metadata": {},
   "outputs": [],
   "source": [
    "flac_filePaths = [el.replace('\\\\', '/') for el in flac_filePaths]"
   ]
  },
  {
   "cell_type": "code",
   "execution_count": 7,
   "metadata": {},
   "outputs": [
    {
     "data": {
      "text/plain": [
       "378"
      ]
     },
     "execution_count": 7,
     "metadata": {},
     "output_type": "execute_result"
    }
   ],
   "source": [
    "len(flac_filePaths)"
   ]
  },
  {
   "cell_type": "code",
   "execution_count": 8,
   "metadata": {},
   "outputs": [],
   "source": [
    "rhubarbFilePath = '.\\\\Rhubarb-Lip-Sync-1.13.0-Windows\\\\Rhubarb-Lip-Sync-1.13.0-Windows\\\\rhubarb.exe'"
   ]
  },
  {
   "cell_type": "code",
   "execution_count": 9,
   "metadata": {},
   "outputs": [
    {
     "name": "stdout",
     "output_type": "stream",
     "text": [
      "0 files processed\n",
      "189 files processed\n"
     ]
    }
   ],
   "source": [
    "for i in range(0, len(flac_filePaths)):\n",
    "    if(100 * ((i)/len(flac_filePaths)) % 10 == 0):\n",
    "        print(f\"{i} files processed\")\n",
    "    filePath = flac_filePaths[i]\n",
    "    if(os.path.exists(filePath.replace('.flac', '.json'))):\n",
    "        continue\n",
    "    file_path = PurePath(filePath)\n",
    "    flac_tmp_audio_data = AudioSegment.from_file(file_path, file_path.suffix[1:])\n",
    "    flac_tmp_audio_data.export(str(file_path).replace(file_path.suffix, \"\") + \".wav\", format=\"wav\")\n",
    "    wavFilePath = str(file_path).replace(file_path.suffix, \"\") + \".wav\"\n",
    "    jsonFilePath = wavFilePath.replace('.wav', '.json')\n",
    "    # print(f'{rhubarbFilePath} -f json {wavFilePath} -o {jsonFilePath}')\n",
    "    res = os.system(f'{rhubarbFilePath} -f json {wavFilePath} -o {jsonFilePath}')\n",
    "    if(res != 0):\n",
    "        print(f\"{filePath} processing failed\")"
   ]
  }
 ],
 "metadata": {
  "kernelspec": {
   "display_name": "Python 3",
   "language": "python",
   "name": "python3"
  },
  "language_info": {
   "codemirror_mode": {
    "name": "ipython",
    "version": 3
   },
   "file_extension": ".py",
   "mimetype": "text/x-python",
   "name": "python",
   "nbconvert_exporter": "python",
   "pygments_lexer": "ipython3",
   "version": "3.11.7"
  }
 },
 "nbformat": 4,
 "nbformat_minor": 2
}
